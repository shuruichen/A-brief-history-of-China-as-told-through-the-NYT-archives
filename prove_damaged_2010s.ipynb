{
 "cells": [
  {
   "cell_type": "code",
   "execution_count": null,
   "id": "72e4a47b",
   "metadata": {},
   "outputs": [],
   "source": [
    "import json\n",
    "l1 = []\n",
    "l2 = []\n",
    "l3 = []\n",
    "errors = 0 \n",
    "\n",
    "with open('/Users/mac/Desktop/python_project/scraped/2000-2009.txt','r') as f:\n",
    "    lines = f.readlines()\n",
    "\n",
    "    i = 0\n",
    "    for line in lines:\n",
    "        i += 1\n",
    "        try:\n",
    "            dic = json.loads(line,strict = False)\n",
    "            docs = dic['response']['docs']\n",
    "            for doc in docs:\n",
    "                l1.append(doc[\"web_url\"])\n",
    "                l2.append(doc[\"pub_date\"])\n",
    "                l3.append(doc[\"headline\"][\"main\"])\n",
    "        except Exception as e:\n",
    "            errors += 1\n",
    "            print(e) #\n",
    "            continue\n",
    "\n",
    "print(len(lines)) #\n",
    "print(errors) #检查2010s错误的比例\n"
   ]
  }
 ],
 "metadata": {
  "kernelspec": {
   "display_name": "Python 3",
   "language": "python",
   "name": "python3"
  },
  "language_info": {
   "codemirror_mode": {
    "name": "ipython",
    "version": 3
   },
   "file_extension": ".py",
   "mimetype": "text/x-python",
   "name": "python",
   "nbconvert_exporter": "python",
   "pygments_lexer": "ipython3",
   "version": "3.8.8"
  }
 },
 "nbformat": 4,
 "nbformat_minor": 5
}
